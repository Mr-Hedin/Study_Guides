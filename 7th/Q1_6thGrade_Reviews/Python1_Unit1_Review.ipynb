{
 "cells": [
  {
   "cell_type": "markdown",
   "id": "e44ae6c2-8e8a-4a60-8a62-de9b84e4e684",
   "metadata": {},
   "source": [
    "# **Review - Basic Syntax and While Loops** \n",
    "\n",
    "\n",
    "### **Part 1: What you're reviewing**\n",
    "* Basic Syntax\n",
    "* Variables\n",
    "* Data Types\n",
    "* While Loops\n",
    "---"
   ]
  },
  {
   "cell_type": "markdown",
   "id": "2c838067-225d-4f8b-ba86-793b3324df42",
   "metadata": {},
   "source": [
    "# **Part 2: What you should know**\n",
    "___"
   ]
  },
  {
   "cell_type": "markdown",
   "id": "609e6252-4f2f-4fb7-beb3-e2b3430cc2da",
   "metadata": {},
   "source": [
    "## 1. **First,** `Syntax`:\n",
    "> Syntax is the 'grammar' for code. It includes the `.` (dot) `\"` (quotations) `()` (parentheses) and proper spelling of your commands.\n",
    "> Just like English, there are rules for how these symbols are used.\n",
    "> The commands you know are all based on the following structure:\n",
    "```python\n",
    "object.method(\"argument\")\n",
    "```\n",
    "* The `object` is \"the thing\" that you are telling Python to do something with, your `object` will perform a `method` to do something\n",
    "* The object in CodeCombat is usually your `hero`, which might execute a `method` like `moveRight()`\n",
    "```python\n",
    "hero.moveRight()\n",
    "```\n",
    "\n",
    "* In order to execute a `method`, you must separate the object and the method with a `.` and include `()` parentheses at the end of your method, the parentheses tell the `object` to go do something\n",
    "\n",
    "```python\n",
    "student.study()\n",
    "```\n",
    "\n",
    "* `Arguments` allow you to tell the method how to do its job, they go inside the `()` parentheses at the end of your method.\n",
    "```python\n",
    "student.study(\"Computer Science\")\n",
    "```"
   ]
  },
  {
   "cell_type": "markdown",
   "id": "70473e5d-49ac-4882-aaef-9ab0d3aa9199",
   "metadata": {},
   "source": [
    "## 2. **Next,** `Variables & Data Types`:\n",
    "\n",
    "* To store information for later, programming languages like Python use `variables`. They act like a box that you store data in.\n",
    "* A variable needs a **name** and a **value**\n",
    "* To create a variable you simply write the name, an equal sign, then the value.\n",
    "```python\n",
    "name = \"value\"\n",
    "```\n",
    "* There are **FOUR** types of data in basic Python.\n",
    "* It is REAAALLLY important that you don't get them mixed up. (You might end up trying to multiply words or subtract True and False...)\n",
    "* The four data types are:\n",
    "> 1. `Integer` - A whole number, like 42\n",
    "> 2. `String` - Words inside quotation marks, like \"Hello World\"\n",
    "> 3. `Float` - A decimal number, like 6.7\n",
    "> 4. `Boolean` - True or False\n",
    "\n",
    "* `variables` store data of these four types, here's an example of each type stored in different variables:\n",
    "\n",
    "```python\n",
    "my_integer = 42\n",
    "my_string = \"Hello World\"\n",
    "my_float = 6.7\n",
    "my_boolean = False\n",
    "```\n",
    "\n"
   ]
  },
  {
   "cell_type": "markdown",
   "id": "6a657589-e9c5-48cc-b5f4-c865fef1fdb2",
   "metadata": {},
   "source": [
    "## 3. **Finally,** `While Loops`:\n",
    "\n",
    "* While loops let you execute your code multiple times.\n",
    "* While loops have two parts: the keyword (`while`) and the condition.\n",
    "* At the end of every while loop you must write a `:` (colon). This tells the loop that the next lines of indented code are part of the loop.\n",
    "* In the example below, the keyword `while` is used with the `condition` (studying) to say that while you are studying, execute the learn() command. \n",
    "\n",
    "```python\n",
    "while studying:\n",
    "    learn()\n",
    "```\n",
    "\n",
    "* As long as studying is True, the while loop will keep repeating\n",
    "\n",
    "* For the first part of this class, we will only work with `while True` loops to keep things simple.\n",
    "\n",
    "* Since `True` is the condition, the loop is simply saying **\"as long as True is True, keep doing the code below\"** which makes the loop repeat forever since `True` is always `True`.\n",
    "\n",
    "* Here is the syntax for a `while True` loop:\n",
    "```python\n",
    "while True:\n",
    "    execute_this_command()\n",
    "```"
   ]
  },
  {
   "cell_type": "markdown",
   "id": "baa4963d-2738-4e6a-9291-386f1d281b97",
   "metadata": {},
   "source": [
    "___\n",
    "### **Useful Reminders**\n",
    "- **Tip 1:** Arguments are optional! Often times you will see just an object executing a method with nothing in the parentheses.\n",
    "  `hero.moveRight()` is a valid command to move your character right once!\n",
    "- **Tip 2:** Spelling matters. A lot. If you forget to capitalize a word, the command will not execute!\n",
    "- **Tip 3:** Pro tip: If you don't know what data type is stored in a variable use the `type()` command to tell you what type it is like this:\n",
    "```python\n",
    "type(variable_name)\n",
    "```\n",
    "- **Tip 4:** after you write the keyword and condition for your while loop, indent the lines of code you want to be part of that loop using four spaces or the tab key.\n",
    "```python\n",
    "while True:\n",
    "    execute_this()\n",
    "    and_this()\n",
    "    also_this()\n",
    "\n",
    "but_not_this()\n",
    "```\n",
    "---"
   ]
  },
  {
   "cell_type": "markdown",
   "id": "511d5196-8ddd-4482-8a3c-f92f4646933b",
   "metadata": {},
   "source": [
    "### **Key Takeaways**\n",
    "> **Syntax**: Syntax is the grammar of your code. Spell everything right and don't forget your punctuation!\n",
    "\n",
    "> **Variables & Data Types**: Python stores **EVERYTHING** inside of variables. A name, a number, your bank account balance, you name it. Everything boils down to the four data types: Integer, String, Float, Boolean\n",
    "\n",
    "> **While Loops**: While loops let you repeat code. While loops let you repeat code. While loops let you repeat code."
   ]
  },
  {
   "cell_type": "markdown",
   "id": "7dd19d10-6692-42ca-99e8-f68fa636430b",
   "metadata": {},
   "source": [
    "___\n",
    "# Part 3: **Practice**\n",
    "___\n",
    "### Problem 1: Syntax\n",
    "\n",
    "- The code below is supposed to make the hero move right, but it has a syntax mistake.\n",
    "- Fix it so that it runs correctly.\n",
    "\n",
    "```python\n",
    "hero.moveRight\n",
    "```"
   ]
  },
  {
   "cell_type": "code",
   "execution_count": null,
   "id": "fee4635c-7778-4ffe-ad3f-79ebc6466588",
   "metadata": {},
   "outputs": [],
   "source": [
    "\n"
   ]
  },
  {
   "cell_type": "markdown",
   "id": "75378fbf-6a0c-4577-8eb9-bdf4092741bd",
   "metadata": {},
   "source": [
    "### Problem 2: Argument Syntax\n",
    "\n",
    "The code below is supposed to make a student study Math, but the argument is missing.\n",
    "Fix it by adding \"Math\" as the argument.\n",
    "\n",
    "```python\n",
    "student.study()\n",
    "```"
   ]
  },
  {
   "cell_type": "code",
   "execution_count": null,
   "id": "d330cb30-c45a-4f85-b829-05b218d6f2fa",
   "metadata": {},
   "outputs": [],
   "source": [
    "\n"
   ]
  },
  {
   "cell_type": "markdown",
   "id": "f7aa69bc-701e-49ad-8315-6df6a41b0d82",
   "metadata": {},
   "source": [
    "### **Problem 3: Variables & Data Types**\n",
    "\n",
    "- The code below is supposed to store a string in the variable `greeting`, but something is wrong.\n",
    "- Fix it so it works correctly.\n",
    "\n",
    "```python\n",
    "greeting = Hello\n",
    "```"
   ]
  },
  {
   "cell_type": "code",
   "execution_count": null,
   "id": "586918e4-c0a4-4d7a-ab25-198c4e57877a",
   "metadata": {},
   "outputs": [],
   "source": [
    "\n"
   ]
  },
  {
   "cell_type": "markdown",
   "id": "00ae981a-d72e-4803-9f59-e2a20d815510",
   "metadata": {},
   "source": [
    "### **Problem 4: Data Types**\n",
    "\n",
    "The code below is supposed to store a decimal number in `price`, but right now it’s using the wrong type.\n",
    "Fix it so `price` is a **float** instead of an **integer**.\n",
    "\n",
    "```python\n",
    "price = 5\n",
    "```\n",
    "\n"
   ]
  },
  {
   "cell_type": "code",
   "execution_count": null,
   "id": "64ab92c9-7861-46a7-9b96-6455b7996fd0",
   "metadata": {},
   "outputs": [],
   "source": [
    "\n"
   ]
  },
  {
   "cell_type": "markdown",
   "id": "0f037832-2c04-4258-8f8b-35e047cb927c",
   "metadata": {},
   "source": [
    "### **Problem 5: Fill in the Blank**\n",
    "\n",
    "Complete the code so that it runs *forever* and makes the hero move left.\n",
    "Fill in the missing `keyword` and `condition`.\n",
    "\n",
    "```python\n",
    "_____ _____:\n",
    "    hero.moveLeft()\n",
    "```\n"
   ]
  },
  {
   "cell_type": "code",
   "execution_count": null,
   "id": "dd2f945e-44bd-4478-850f-1ad68fe806c4",
   "metadata": {},
   "outputs": [],
   "source": [
    "\n"
   ]
  },
  {
   "cell_type": "markdown",
   "id": "6367c400-deef-4c46-8c43-5fc34d94c939",
   "metadata": {},
   "source": [
    "### **Problem 6: While Loops**\n",
    "\n",
    "The code below is supposed to make the loop run forever, but it has a syntax error.\n",
    "Fix it so it runs correctly.\n",
    "\n",
    "```python\n",
    "while True\n",
    "    hero.moveRight()\n",
    "```"
   ]
  },
  {
   "cell_type": "code",
   "execution_count": null,
   "id": "1cfbd7e0-9171-4006-b84e-672250f8bde4",
   "metadata": {},
   "outputs": [],
   "source": [
    "\n"
   ]
  },
  {
   "cell_type": "markdown",
   "id": "7d26830f-637e-4e1a-9b45-db7e814e40d8",
   "metadata": {},
   "source": [
    "### **Problem 7: While Loop Syntax**\n",
    "\n",
    "The code below is supposed to keep printing `\"Hello\"` forever, but the code has an error.\n",
    "Fix it so the code runs properly.\n",
    "\n",
    "```python\n",
    "while True:\n",
    "print(\"Hello\")\n",
    "```"
   ]
  },
  {
   "cell_type": "code",
   "execution_count": null,
   "id": "62a7d77a-6c3f-49f5-af57-94cc12845d9b",
   "metadata": {},
   "outputs": [],
   "source": [
    "\n"
   ]
  },
  {
   "cell_type": "markdown",
   "id": "f10d4ab3-569b-4dbf-8770-47272bf46909",
   "metadata": {},
   "source": [
    "___\n",
    "# Part 4: **Vocabulary**\n",
    "___\n",
    "Words you should know"
   ]
  },
  {
   "cell_type": "markdown",
   "id": "9f82a08c-5b8b-486a-8082-b029e22a78bf",
   "metadata": {},
   "source": [
    "`syntax`\n",
    "> The 'grammar' of your code. Includes spelling, punctuation, and indentation.\n",
    "\n",
    "`object`\n",
    "> The 'thing' that will perform some action, like your `hero`\n",
    "\n",
    "`method`\n",
    "> The action your `object` will perform, like moveRight\n",
    "\n",
    "`argument`\n",
    "> The way your `object` performs a `method`, it goes in the parentheses, like hero.moveRight(10)\n",
    "\n",
    "`variable`\n",
    "> A place where data is stored. Think of a box with a label - the box could be labeled 'number' and have a 42 inside of it.\n",
    "\n",
    "`integer`\n",
    "> A whole number, like 42\n",
    "\n",
    "`string`\n",
    "> Words inside of `\"\"` quotation marks, like \"Hello!\" \n",
    "\n",
    "`float`\n",
    "> A decimal number, like 6.7\n",
    "\n",
    "`boolean`\n",
    "> A True or False value\n",
    "\n",
    "`while True:`\n",
    "> A special type of while loop that repeats forever.\n",
    "\n",
    "`keyword`\n",
    "> A special word in Python that has a specific job, like `while` or `if`\n",
    "\n",
    "`condition`\n",
    "> Used with conditional statements to determine if something is happening (True) or something isn't happening (False). \n"
   ]
  },
  {
   "cell_type": "code",
   "execution_count": null,
   "id": "0c5e3140-16a5-4132-8de7-17be7695deab",
   "metadata": {},
   "outputs": [],
   "source": []
  }
 ],
 "metadata": {
  "kernelspec": {
   "display_name": "Python 3 (ipykernel)",
   "language": "python",
   "name": "python3"
  },
  "language_info": {
   "codemirror_mode": {
    "name": "ipython",
    "version": 3
   },
   "file_extension": ".py",
   "mimetype": "text/x-python",
   "name": "python",
   "nbconvert_exporter": "python",
   "pygments_lexer": "ipython3",
   "version": "3.10.10"
  }
 },
 "nbformat": 4,
 "nbformat_minor": 5
}
