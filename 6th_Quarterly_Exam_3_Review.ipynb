{
 "cells": [
  {
   "cell_type": "markdown",
   "id": "24c5bb7f-4ce8-40bc-a5f7-4a5b5ee0e397",
   "metadata": {},
   "source": [
    "## Expressions (Mathematical Expressions and Order of Operations)\n",
    "\n",
    "An **expression** is a math sentence made up of numbers, symbols, and operations like addition (+), subtraction (-), multiplication (*), and division (/). \n",
    "\n",
    "When solving an expression, always follow the **order of operations**:\n",
    "\n",
    "1. **Parentheses first** `()`\n",
    "2. **Exponents** `^`\n",
    "3. **Multiplication and Division next** (`*`, `/`)\n",
    "4. **Addition and Subtraction last** (`+`, `-`)\n",
    "\n",
    "Here's an example:\n",
    "\n",
    "`2 + 3 * (4 - 1)`\n",
    "\n",
    "- First, solve what's in parentheses: `(4 - 1)` becomes `3`.\n",
    "- Then multiply: `3 * 3` becomes `9`.\n",
    "- Finally, add: `2 + 9` becomes `11`.\n",
    "\n",
    "**Answer:** `11`\n",
    "\n",
    "---\n",
    "PRACTICE:"
   ]
  },
  {
   "cell_type": "code",
   "execution_count": null,
   "id": "50203cc8-0ec8-4c2d-ab97-1343ede70a15",
   "metadata": {},
   "outputs": [],
   "source": [
    "# Solve Each of the following and store the output in a variable:\n",
    "\n",
    "# 4 + 3 × 2\n",
    "answer_one = \n",
    "# (10 - 4) ÷ 2\n",
    "answer_two = \n",
    "# 8 + (2 × 5)\n",
    "answer_three = \n",
    "# (9 - 3) × (2 + 2)\n",
    "answer_four = \n",
    "# 15 ÷ 3 + 4 × 2\n",
    "answer_five = \n",
    "\n",
    "# Bonus Question: Take the output of problem 3, multiply it by the output of problem 4, then divide by problem 1:\n",
    "bonus = "
   ]
  },
  {
   "cell_type": "code",
   "execution_count": null,
   "id": "a7cf35ed-f08e-40c2-ad72-6c20605acbf8",
   "metadata": {},
   "outputs": [],
   "source": []
  },
  {
   "cell_type": "markdown",
   "id": "5369220e-5f3c-457b-9215-cfcfbde5cc60",
   "metadata": {},
   "source": [
    "## Properties of Objects\n",
    "\n",
    "An **object** is like a container that holds different information, or **properties**. Each property has a name and a value.\n",
    "\n",
    "Just about anything can be represented as an object:\n",
    "\n",
    "Imagine a chair - a chair is an object that has properties like \"number of legs\", \"material\", \"color\", and other defining traits that help describe the object.\n",
    "\n",
    "\n",
    "To access or set the properties' values you can use the dot operator like:\n",
    "\n",
    "```\n",
    "cat.color = \"blue\"\n",
    "cat.age = 10\n",
    "```\n",
    "\n",
    "This lets you easily use or change information stored inside objects!\n",
    "---"
   ]
  },
  {
   "cell_type": "code",
   "execution_count": 1,
   "id": "c87aaf65-3e90-4a93-b386-5c23ee31510a",
   "metadata": {},
   "outputs": [
    {
     "name": "stdout",
     "output_type": "stream",
     "text": [
      "My Cat Stats: NAME - Bob, COLOR - Orange, AGE - 2, CAT POWER - 9001\n"
     ]
    }
   ],
   "source": [
    "# don't worry about making a class just yet, it won't be on the test!\n",
    "class cat:\n",
    "    def __init__(self):\n",
    "        self.name = \"Bob\"\n",
    "        self.color = \"Orange\"\n",
    "        self.age = 2\n",
    "        self.attack_power = 9001\n",
    "\n",
    "\n",
    "my_cat = cat()\n",
    "\n",
    "# change the cat's name to \"MITTENS, THE ALMIGHTY DESTROYER OF WORLDS\" \n",
    "\n",
    "\n",
    "\n",
    "# change the cat's color to \"grey\"\n",
    "\n",
    "\n",
    "\n",
    "\n",
    "# change the cat's age to 10\n",
    "\n",
    "\n",
    "\n",
    "\n",
    "# Try giving the cat your own property, then set the property!\n",
    "\n",
    "\n",
    "\n",
    "\n",
    "\n",
    "print(f\"My Cat Stats: NAME - {my_cat.name}, COLOR - {my_cat.color}, AGE - {my_cat.age}, CAT POWER - {my_cat.attack_power}\")"
   ]
  },
  {
   "cell_type": "markdown",
   "id": "e4877554-3b68-4d24-90eb-4c39916ea1d0",
   "metadata": {},
   "source": [
    "## Return Statements\n",
    "\n",
    "In programming, **functions** are like mini-machines that take input, do a job, and then give you something back. The **return statement** is how the function gives you that answer or result.\n",
    "\n",
    "Here's an example:\n",
    "\n",
    "\n",
    "```python\n",
    "def add_numbers(x, y):\n",
    "    result = x + y\n",
    "    return result\n",
    "```\n",
    "\n",
    "If you use this function like this:\n",
    "\n",
    "```python\n",
    "answer = add_numbers(3, 4)\n",
    "```\n",
    "\n",
    "The function adds `3 + 4` to get `7`, and the `return` gives that `7` as its output. Now, the value of `answer` is `7`.\n",
    "\n",
    "Practice Return Statements Below:\n",
    "---"
   ]
  },
  {
   "cell_type": "code",
   "execution_count": null,
   "id": "0c7667f5-a09d-41a7-849d-df56f4f99fbf",
   "metadata": {},
   "outputs": [],
   "source": [
    "# Create a function that returns True if x > y:\n",
    "\n",
    "def is_x_greater_than_y(x, y):\n",
    "    pass\n",
    "\n",
    "\n",
    "if is_x_greater_than_y(100000,1):\n",
    "    print(\"X is greater than Y!\")"
   ]
  },
  {
   "cell_type": "markdown",
   "id": "4faa7a12-07ae-4086-853f-b31f07a2ba84",
   "metadata": {},
   "source": [
    "## Comparisons (>, <, ==, !=)\n",
    "\n",
    "In coding, we use special symbols to **compare** two values:\n",
    "\n",
    "- `>` means **greater than**.  \n",
    "  Example: `5 > 3` is **True**, but `3 > 5` is **False**.\n",
    "\n",
    "- `<` means **less than**.  \n",
    "  Example: `2 < 4` is **True**, but `4 < 2` is **False**.\n",
    "\n",
    "- `==` means **equal to**.  \n",
    "  Example: `5 == 5` is **True**, but `5 == 3` is **False**.\n",
    "\n",
    "- `!=` means **not equal to**.  \n",
    "  Example: `4 != 2` is **True**, but `4 != 4` is **False**.\n",
    "\n",
    "Comparisons are used in if statements and other conditional logic!"
   ]
  },
  {
   "cell_type": "markdown",
   "id": "97e90b3c-2142-4c2c-bea6-872e834fc7b6",
   "metadata": {},
   "source": [
    "Practice Comparisons Below:\n",
    "---"
   ]
  },
  {
   "cell_type": "code",
   "execution_count": null,
   "id": "d8293a26-fcfc-4774-a5d6-f96af8e11364",
   "metadata": {},
   "outputs": [],
   "source": [
    "# Comparisons (>, <, ==, !=)\n",
    "# Determine if each comparison is True or False:\n",
    "\n",
    "# 4 > 9\n",
    "\n",
    "# 7 < 15\n",
    "\n",
    "# 12 == 12\n",
    "\n",
    "# 5 != 5\n",
    "\n",
    "# 3 + 2 > 4\n"
   ]
  },
  {
   "cell_type": "markdown",
   "id": "4de485cf-4aa6-4bd8-a9e6-386c05068849",
   "metadata": {},
   "source": [
    "## Break and Continue with a While True Loop\n",
    "\n",
    "A `while True` loop repeats code forever, until you tell it to stop. To control this loop, we use `break` and `continue`:\n",
    "\n",
    "- **break** immediately stops the loop. Your program moves on to whatever comes next after the loop.\n",
    "- **continue** skips the rest of the current loop, but the loop starts again from the top.\n",
    "\n",
    "Here's an example:\n",
    "\n",
    "```python\n",
    "while True:\n",
    "    number = int(input(\"Enter a number (0 to quit): \"))\n",
    "    \n",
    "    if number == 0:\n",
    "        break  # stops the loop completely\n",
    "    \n",
    "    if number < 0:\n",
    "        continue  # skips negative numbers and restarts\n",
    "    \n",
    "    print(\"You entered:\", number)\n",
    "```\n",
    "\n",
    "- If you type `0`, the loop stops.\n",
    "- If you type a negative number, it skips printing and asks again.\n",
    "- If you type any positive number, it prints the number and asks again.\n",
    "\n",
    "Create your own version below:\n",
    "---"
   ]
  },
  {
   "cell_type": "code",
   "execution_count": null,
   "id": "7fa6aa15-e122-4b4a-bda5-bccfccb30ac4",
   "metadata": {},
   "outputs": [],
   "source": [
    "while True:\n",
    "    number = int(input(\"Enter a number (0 to quit): \"))\n",
    "    \n",
    "    if number == 0:\n",
    "        break  # stops the loop completely\n",
    "    \n",
    "    if number < 0:\n",
    "        continue  # skips negative numbers and restarts\n",
    "    \n",
    "    print(\"You entered:\", number)"
   ]
  },
  {
   "cell_type": "markdown",
   "id": "d6228e5b-9f03-4a89-9609-298500632c5b",
   "metadata": {},
   "source": [
    "# Vocabulary List\n",
    "\n",
    "- **Expression:**  \n",
    "  A math 'sentence' using numbers, symbols, and operations (like +, -, ×, ÷).\n",
    "\n",
    "- **Order of Operations:**  \n",
    "  Rules that say what math operation to do first: parentheses `( )`, then multiplication and division, then addition and subtraction.\n",
    "\n",
    "- **Object:**  \n",
    "  A container that holds other related pieces of information. Your 'hero' is an object!\n",
    "\n",
    "- **Property:**  \n",
    "  A piece of information stored inside an object. For example, hero.health is a property.\n",
    "\n",
    "- **Return Statement:**  \n",
    "  A way for a function to give back an answer or value after finishing its job.\n",
    "\n",
    "- **Comparison:**  \n",
    "  Checking two values to see if they are greater than (`>`), less than (`<`), equal to (`==`), or not equal to (`!=`).\n",
    "\n",
    "- **Loop:**  \n",
    "  A piece of code that repeats over and over.\n",
    "\n",
    "- **Break:**  \n",
    "  Stops a loop completely.\n",
    "\n",
    "- **Continue:**  \n",
    "  Skips the rest of the loop, but then starts the loop again."
   ]
  },
  {
   "cell_type": "code",
   "execution_count": null,
   "id": "986f42ac-16cf-4a76-a45f-097bdaf0f43c",
   "metadata": {},
   "outputs": [],
   "source": []
  }
 ],
 "metadata": {
  "kernelspec": {
   "display_name": "Python 3 (ipykernel)",
   "language": "python",
   "name": "python3"
  },
  "language_info": {
   "codemirror_mode": {
    "name": "ipython",
    "version": 3
   },
   "file_extension": ".py",
   "mimetype": "text/x-python",
   "name": "python",
   "nbconvert_exporter": "python",
   "pygments_lexer": "ipython3",
   "version": "3.10.10"
  }
 },
 "nbformat": 4,
 "nbformat_minor": 5
}
